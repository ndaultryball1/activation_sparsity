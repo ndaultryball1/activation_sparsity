{
  "nbformat": 4,
  "nbformat_minor": 0,
  "metadata": {
    "colab": {
      "provenance": [],
      "collapsed_sections": [],
      "include_colab_link": true
    },
    "kernelspec": {
      "name": "python3",
      "display_name": "Python 3"
    },
    "language_info": {
      "name": "python"
    }
  },
  "cells": [
    {
      "cell_type": "markdown",
      "metadata": {
        "id": "view-in-github",
        "colab_type": "text"
      },
      "source": [
        "<a href=\"https://colab.research.google.com/github/adamskiij99/activation_sparsity/blob/master/Copy_of_TODL_PS_2.ipynb\" target=\"_parent\"><img src=\"https://colab.research.google.com/assets/colab-badge.svg\" alt=\"Open In Colab\"/></a>"
      ]
    },
    {
      "cell_type": "code",
      "metadata": {
        "id": "oSGVOV23X4EK"
      },
      "source": [
        "import tensorflow as tf\n",
        "from tensorflow.keras import backend as K\n",
        "from tensorflow.keras.models import Sequential\n",
        "from tensorflow.keras.layers import Dense, Flatten, Activation\n",
        "from keras.utils.generic_utils import get_custom_objects\n",
        "from keras.datasets import mnist\n",
        "import matplotlib.pyplot as plt\n",
        "import numpy as np\n",
        "import scipy as sp\n",
        "import scipy.integrate\n",
        "from tqdm import tqdm"
      ],
      "execution_count": 131,
      "outputs": []
    },
    {
      "cell_type": "markdown",
      "metadata": {
        "id": "N_alDkrWn3uD"
      },
      "source": [
        "# 2) Histogram of pre and post activation values"
      ]
    },
    {
      "cell_type": "code",
      "metadata": {
        "id": "IvSXp9Rkn_lP"
      },
      "source": [
        "# Get and normalize a sample batch of mnist data to work with\n",
        "\n",
        "(x_train, y_train), (x_test, y_test)= mnist.load_data()\n",
        "batch_size = 256\n",
        "x = x_train[:batch_size, :, :]/255\n",
        "y = y_train[:batch_size]/255\n",
        "\n",
        "#function to  build feed a fordward net\n",
        "def get_model(widths=[28**2], sigma_w = 1, sigma_b = 0,\n",
        "              normalize = True, activation='tanh'):\n",
        "  model = Sequential([Flatten()])\n",
        "  for i, N in enumerate(widths[1:]):\n",
        "    if normalize:  \n",
        "      kernel_initialiser = tf.random_normal_initializer(mean=0.0, stddev=sigma_w/np.sqrt(widths[i-1]+N))\n",
        "    else:\n",
        "      kernel_initialiser = tf.random_normal_initializer(mean=0, stddev = sigma_w)\n",
        "    bias_initialiser = tf.random_normal_initializer(mean=0.0, stddev=sigma_b)\n",
        "    model.add(Dense(N, kernel_initializer=kernel_initialiser, use_bias=True, bias_initializer=bias_initialiser))\n",
        "    model.add(Activation(activation))\n",
        "\n",
        "  return model"
      ],
      "execution_count": 132,
      "outputs": []
    },
    {
      "cell_type": "code",
      "metadata": {
        "id": "IuHSyJz9oD3L"
      },
      "source": [
        "def get_activations(x, widths, sigma_w, sigma_b, normalize, activation):\n",
        "  # build new instance of model (i.e. new weights and biases)\n",
        "  model = get_model(widths=widths , normalize=normalize, sigma_w=sigma_w, sigma_b=sigma_b, activation=activation)\n",
        "  model.build((None, 28,28))\n",
        "  # build function to collect pre-activation layers when an input is passed into the net\n",
        "  inp = model.input\n",
        "  out = [layer.output for layer in model.layers if isinstance(layer, Dense)]\n",
        "  get_lay_outputs = K.function(inp, out)\n",
        "\n",
        "  # Pass input  through the net to get layer outputs \n",
        "  pre_activation_layers = get_lay_outputs(x)\n",
        "\n",
        "  # build function to collect post-activation layers when an input is passed into the net\n",
        "  inp = model.input\n",
        "  out = [layer.output for layer in model.layers if isinstance(layer, Activation)]\n",
        "  get_lay_outputs = K.function(inp, out)\n",
        "  \n",
        "  # Pass input  through the net to get layer outputs\n",
        "  post_activation_layers = get_lay_outputs(x)\n",
        "  \n",
        "  #avoid memory problems by deleting model and clearing session\n",
        "  del model\n",
        "  tf.keras.backend.clear_session()\n",
        "  return pre_activation_layers, post_activation_layers\n"
      ],
      "execution_count": 133,
      "outputs": []
    },
    {
      "cell_type": "code",
      "metadata": {
        "id": "6T0HeDyKCVkw"
      },
      "source": [
        "#Experiment with these parameters\n",
        "\n",
        "widths = [28**2] + [28**2 for _ in range(6)] # [input dim] + [layer_wdths]\n",
        "normalize = True\n",
        "sigma_w = 1.77\n",
        "sigma_b = 1.41\n",
        "\n",
        "tau = 0.0001 # Must be >0\n",
        "\n",
        "def soft_thresholding(x):\n",
        "  return K.relu(x - tau) - K.relu(-x - tau)\n",
        "get_custom_objects().update({'custom_activation': Activation(soft_thresholding)})\n",
        "\n",
        "activation='custom_activation'"
      ],
      "execution_count": 138,
      "outputs": []
    },
    {
      "cell_type": "code",
      "metadata": {
        "id": "6ZGUG--gqJ6c",
        "colab": {
          "base_uri": "https://localhost:8080/",
          "height": 353
        },
        "outputId": "92b1e410-88f7-4a25-f1cf-7c7dafaeb5ad"
      },
      "source": [
        "#1.3174440296741532 \n",
        "#0.4306108153269152\n",
        "\n",
        "sigma_w = 1.62\n",
        "sigma_b = 0.43\n",
        "tau = 1 # Must be >0\n",
        "\n",
        "pre_activation_layers, post_activation_layers = get_activations(x, widths, sigma_w, sigma_b, normalize, activation)\n",
        "\n",
        "fig, axs = plt.subplots(1,2, figsize=(12,5))\n",
        "for i, activations in enumerate(pre_activation_layers):\n",
        "  h, b = np.histogram(activations, bins=50, density=True)\n",
        "  b = [(b[i+1]+b[i])/2 for i in range(len(b)-1) ]\n",
        "  axs[0].scatter(b,h, label = f\"Layer {i}\")\n",
        "axs[0].set_title(\"pre_activations\")\n",
        "axs[0].set_xlim([-3, 3])\n",
        "axs[0].legend()\n",
        "\n",
        "for i, activations in enumerate(post_activation_layers):\n",
        "  h, b = np.histogram(activations, bins=50, density=True)\n",
        "  b = [(b[i+1]+b[i])/2 for i in range(len(b)-1) ]\n",
        "  axs[1].scatter(b,h, label = f\"Layer {i}\")\n",
        "axs[1].set_title(\"post_activations\")\n",
        "axs[1].set_xlim([-3, 3])\n",
        "axs[1].legend()"
      ],
      "execution_count": 142,
      "outputs": [
        {
          "output_type": "execute_result",
          "data": {
            "text/plain": [
              "<matplotlib.legend.Legend at 0x7fc49ede9710>"
            ]
          },
          "metadata": {},
          "execution_count": 142
        },
        {
          "output_type": "display_data",
          "data": {
            "text/plain": [
              "<Figure size 864x360 with 2 Axes>"
            ],
            "image/png": "[encoded data removed]"
          },
          "metadata": {
            "needs_background": "light"
          }
        }
      ]
    },
    {
      "cell_type": "code",
      "metadata": {
        "id": "ng56q2_FYrHF"
      },
      "source": [],
      "execution_count": null,
      "outputs": []
    },
    {
      "cell_type": "markdown",
      "metadata": {
        "id": "dIXfZbygNScn"
      },
      "source": [
        "##3a) Calculating q*"
      ]
    },
    {
      "cell_type": "markdown",
      "metadata": {
        "id": "CzT9RhhKhdG_"
      },
      "source": [
        "First, lets calculate $q^*$ by iteratively solving for $q^l$, using equation (3) from the paper by Poole et al."
      ]
    },
    {
      "cell_type": "code",
      "metadata": {
        "colab": {
          "base_uri": "https://localhost:8080/",
          "height": 316
        },
        "id": "700UdbKjfYJ_",
        "outputId": "4c9eb2ee-fbb9-4267-89ad-81be6452f4ac"
      },
      "source": [
        "def normal(z):\n",
        "  return (1/np.sqrt(2*np.pi))*np.exp(-(z**2)/2)\n",
        "\n",
        "def integrand(z,q):\n",
        "  return normal(z)*(np.tanh(np.sqrt(q)*z)**2)\n",
        "\n",
        "\n",
        "\n",
        "N = 1000 #layer width\n",
        "x = np.random.normal(size=N)\n",
        "\n",
        "#use initial condition given in the paper\n",
        "q0 = (1/len(x))*np.dot(x,x)\n",
        "sw = 2.5\n",
        "sb= 0.3\n",
        "q1 = (sw**2)*q0 + sb**2 \n",
        "\n",
        "qs = []\n",
        "qs.append(q0)\n",
        "qs.append(q1)\n",
        "\n",
        "\n",
        "#iterate to convergence within specified tolerance\n",
        "count = 0\n",
        "while np.abs(qs[count+1]-qs[count])>1e-04:\n",
        "  q1,_ = sp.integrate.quad(lambda z: integrand(z,q1), -np.inf, np.inf)\n",
        "  q1 = (sw**2)*q1 + sb**2\n",
        "  qs.append(q1)\n",
        "  count+=1\n",
        "\n",
        "# Display and plot the results\n",
        "plt.plot(qs)\n",
        "plt.xlabel('$\\ell$')\n",
        "plt.ylabel('$q^\\ell$')\n",
        "print(np.array(qs))\n"
      ],
      "execution_count": 144,
      "outputs": [
        {
          "output_type": "stream",
          "name": "stdout",
          "text": [
            "[1.01735079 6.44844242 4.48737047 4.16892765 4.09984038 4.08395427\n",
            " 4.08025296 4.07938795 4.07918564 4.07913832]\n"
          ]
        },
        {
          "output_type": "display_data",
          "data": {
            "text/plain": [
              "<Figure size 432x288 with 1 Axes>"
            ],
            "image/png": "[encoded data removed]"
          },
          "metadata": {
            "needs_background": "light"
          }
        }
      ]
    },
    {
      "cell_type": "markdown",
      "metadata": {
        "id": "OtXB98hw92yz"
      },
      "source": [
        "## 3b) Empirically observed q*"
      ]
    },
    {
      "cell_type": "markdown",
      "metadata": {
        "id": "0fjZMOrhULcS"
      },
      "source": [
        "Next, lets design a feedforward networks, and calculate the length of each layer, averaged of the weights and biases\n",
        "\n"
      ]
    },
    {
      "cell_type": "code",
      "metadata": {
        "id": "xw173yhPfYQr"
      },
      "source": [
        "#function to  build feed fordward soft_thr net\n",
        "def get_model(num_layers, width = N, sigma_w = 2.5, sigma_b = 0.3):  \n",
        "  model = Sequential()\n",
        "  kernel_initialiser = tf.random_normal_initializer(mean=0.0, stddev=sigma_w/np.sqrt(N))\n",
        "  bias_initialiser = tf.random_normal_initializer(mean=0.0, stddev=sigma_b)\n",
        "  for i in range(num_layers):\n",
        "    a = Dense(width, kernel_initializer=kernel_initialiser, use_bias=True, bias_initializer=bias_initialiser)\n",
        "    model.add(a)\n",
        "    model.add(Activation('custom_activation'))\n",
        "\n",
        "  return model"
      ],
      "execution_count": 165,
      "outputs": []
    },
    {
      "cell_type": "code",
      "metadata": {
        "id": "yH7zSBzyAHCD"
      },
      "source": [],
      "execution_count": 145,
      "outputs": []
    },
    {
      "cell_type": "code",
      "metadata": {
        "colab": {
          "base_uri": "https://localhost:8080/"
        },
        "id": "FAMqn6ENiepH",
        "outputId": "27270b40-b867-403b-bb1b-0b613e6e6f65"
      },
      "source": [
        "x = np.random.normal(size=(1,N))\n",
        "\n",
        "num_layers = 7\n",
        "num_samples = 100\n",
        "\n",
        "average_layer_norms = np.zeros(num_layers)\n",
        "for i in range(num_samples):\n",
        "  # build new instance of model (i.e. new weights and biases)\n",
        "  model = get_model(num_layers, width=N)\n",
        "  model.build((None, N))\n",
        "  \n",
        "  # build function to collect pre-activation layers when an input is passed into the net\n",
        "  inp = model.input\n",
        "  out = [layer.output for layer in model.layers if isinstance(layer, Dense)]\n",
        "  get_lay_outputs = K.function(inp, out)\n",
        "\n",
        "  # Pass input  through the net to get layer outputs \n",
        "  pre_activation_layers = get_lay_outputs(x)\n",
        "\n",
        "  # calculate squared 2-norm of each pre-activation layer\n",
        "  for l, lay in enumerate(pre_activation_layers):\n",
        "    h = lay[0,:]\n",
        "    average_layer_norms[l]+=(np.linalg.norm(h,2)**2)/N\n",
        "  \n",
        "  #avoid memory problems by deleting model and clearing session\n",
        "  del model\n",
        "  tf.keras.backend.clear_session()\n",
        "\n",
        "average_layer_norms=np.divide(average_layer_norms, num_samples)\n",
        "average_layer_norms"
      ],
      "execution_count": 146,
      "outputs": [
        {
          "output_type": "execute_result",
          "data": {
            "text/plain": [
              "array([6.17293835e+00, 1.94477292e+01, 8.40834794e+01, 4.43020507e+02,\n",
              "       2.57456371e+03, 1.55139767e+04, 9.54588810e+04])"
            ]
          },
          "metadata": {},
          "execution_count": 146
        }
      ]
    },
    {
      "cell_type": "code",
      "metadata": {
        "id": "b6gaMq_1AGFm"
      },
      "source": [],
      "execution_count": 146,
      "outputs": []
    },
    {
      "cell_type": "markdown",
      "metadata": {
        "id": "_KQhgA0CB3ib"
      },
      "source": [
        "## 3c) Computing the edge of chaos curve"
      ]
    },
    {
      "cell_type": "markdown",
      "metadata": {
        "id": "Lr5-kuxQmsQ1"
      },
      "source": [
        "Here,  we simply use what you proved in questiton 3, to calculate $\\sigma_w$ from $q^*$, and the equation (3) - used above - to calculate $\\sigma_b$ from $\\sigma_w$ and $q^*$\n"
      ]
    },
    {
      "cell_type": "code",
      "metadata": {
        "id": "c8g_KKLU8HK1"
      },
      "source": [
        "def d_tanh(z):\n",
        "  return np.subtract(1, np.square(np.tanh(z)))\n",
        "\n",
        "def d_soft(z):\n",
        "  if np.abs(z) < tau:\n",
        "    return 0\n",
        "  else:\n",
        "    return 1\n",
        "\n",
        "def chi_1_integrand(z, qstar):\n",
        "  return normal(z)*(d_soft(np.sqrt(qstar)*z))**2\n",
        "  \n",
        "def calc_sw(qstar):\n",
        "  integral, _ = sp.integrate.quad(lambda z: chi_1_integrand(z,qstar), -np.inf, np.inf)\n",
        "  return np.sqrt(np.divide(1,integral))\n",
        "\n",
        "def calc_sb(qstar, sw):\n",
        "  integral,_ = sp.integrate.quad(lambda z: integrand(z,qstar), -np.inf, np.inf)\n",
        "  return np.sqrt(qstar - (sw**2)*integral)"
      ],
      "execution_count": 147,
      "outputs": []
    },
    {
      "cell_type": "code",
      "metadata": {
        "id": "iSEZ2a3o-9qe",
        "colab": {
          "base_uri": "https://localhost:8080/"
        },
        "outputId": "6f776049-2ad1-4173-e809-84f87209e7fd"
      },
      "source": [
        "sigma_ws = []\n",
        "sigma_bs = []\n",
        "for qstar in tqdm(np.linspace(0.1, 20, 500)):\n",
        "  sw = calc_sw(qstar)\n",
        "  sb = calc_sb(qstar, sw)\n",
        "  sigma_ws.append(sw)\n",
        "  sigma_bs.append(sb)"
      ],
      "execution_count": 148,
      "outputs": [
        {
          "output_type": "stream",
          "name": "stderr",
          "text": [
            "  0%|          | 0/500 [00:00<?, ?it/s]/usr/local/lib/python3.7/dist-packages/ipykernel_launcher.py:19: RuntimeWarning: invalid value encountered in sqrt\n",
            " 19%|█▉        | 95/500 [00:01<00:06, 62.67it/s]/usr/local/lib/python3.7/dist-packages/ipykernel_launcher.py:14: IntegrationWarning: The algorithm does not converge.  Roundoff error is detected\n",
            "  in the extrapolation table.  It is assumed that the requested tolerance\n",
            "  cannot be achieved, and that the returned result (if full_output = 1) is \n",
            "  the best which can be obtained.\n",
            "  \n",
            "100%|██████████| 500/500 [00:08<00:00, 61.49it/s]\n"
          ]
        }
      ]
    },
    {
      "cell_type": "code",
      "metadata": {
        "colab": {
          "base_uri": "https://localhost:8080/",
          "height": 302
        },
        "id": "xzEL4Gft-90E",
        "outputId": "c058dce0-ab81-4a5b-87bc-bda8b88df290"
      },
      "source": [
        "#recreating the plot of the edge of chaos from Figure integral2c in the Poole et al. paper\n",
        "plt.scatter(sigma_bs, sigma_ws, label = '$\\chi_1 = 1$', c = np.linspace(0.1, 20, 500), cmap = \"flag\")\n",
        "plt.colorbar()\n",
        "plt.xlim([0,4])\n",
        "plt.ylim([1,5])\n",
        "plt.xlabel('$\\sigma_b$')\n",
        "plt.ylabel('$\\sigma_w$')\n",
        "plt.legend()"
      ],
      "execution_count": 119,
      "outputs": [
        {
          "output_type": "execute_result",
          "data": {
            "text/plain": [
              "<matplotlib.legend.Legend at 0x7fc49f5994d0>"
            ]
          },
          "metadata": {},
          "execution_count": 119
        },
        {
          "output_type": "display_data",
          "data": {
            "text/plain": [
              "<Figure size 432x288 with 2 Axes>"
            ],
            "image/png": "[encoded data removed]"
          },
          "metadata": {
            "needs_background": "light"
          }
        }
      ]
    },
    {
      "cell_type": "code",
      "metadata": {
        "id": "sqKK8YJa-928",
        "colab": {
          "base_uri": "https://localhost:8080/"
        },
        "outputId": "86df0259-74de-41fb-b1b6-e47a160600c4"
      },
      "source": [
        "qstar = 2.1\n",
        "sw = calc_sw(qstar)\n",
        "sb = calc_sb(qstar, sw)\n",
        "print(sw, \"\\n\", sb)"
      ],
      "execution_count": 156,
      "outputs": [
        {
          "output_type": "stream",
          "name": "stdout",
          "text": [
            "1.4283485060074343 \n",
            " 1.0107419706133214\n"
          ]
        }
      ]
    },
    {
      "cell_type": "markdown",
      "metadata": {
        "id": "3I2ToNaOFsp3"
      },
      "source": [
        "##3d) Correlation with depth"
      ]
    },
    {
      "cell_type": "markdown",
      "metadata": {
        "id": "hCg8ZOD_ntDU"
      },
      "source": [
        "In this question, we will pass 2 inputs through our feedforward net, and check their correlations $c_{12}$ at each  layer. Vary the values of $\\sigma_w$ and $\\sigma_b$ and see what happens. Note that one type of behaviour is easier to see when starting with correlated inputs, and the other is more easily visible when starting with uncorrelated inputs - hence the different initialisations of $x_2$\n",
        "\n",
        "vary these $\\sigma_w$; for $\\sigma_w =1.3$ for $\\sigma_b =0.3$ is in the ORDERED regime, $\\sigma_w=2.5$ and larger is in the CHAOTIC regime for $\\sigma_b=0.3$.\n",
        "\n",
        "In the ordered regime our correlation coefficient converges to 1, since because $c^*=1$ is a stable fixed point $(\\chi_1<1)$\n",
        "\n",
        "In the CHAOTIC regime, our correlation coefficient converges to some other fixed point which is now stable: $\\bar{c}\\in[0,1)$. The fixed point $c^*=1$ is unstable because $\\chi_1>1$ (see Fig 2-A in paper). \n",
        "\n",
        "This means that the points decorelate, at least to some extent. For $\\sigma_b=0$, the convergence is towards $\\bar{c}=0$, so the points perfectly decorrelate at infinity (the angle between them becomes 90 degrees in the limit). For any $\\sigma_b>0$ we get transient chaos. \n"
      ]
    },
    {
      "cell_type": "code",
      "metadata": {
        "id": "CC1SIR66-95y",
        "colab": {
          "base_uri": "https://localhost:8080/"
        },
        "outputId": "00434a62-d2cf-46cb-820e-4ad4e02717c9"
      },
      "source": [
        "N = 1000\n",
        "\n",
        "x1 = np.random.normal(size=(1,N))\n",
        "x2_sim = 3*x1.copy()\n",
        "x2 = np.random.normal(size=(1,N))\n",
        "\n",
        "\n",
        "num_samples = 20\n",
        "num_layers = 25\n",
        "\n",
        "#vary these\n",
        "\"\"\"\n",
        "sigma_w1 = 1.3\n",
        "sigma_w2 = 1.33\n",
        "sigma_w3 = 1.66\n",
        "sigma_w4 = 1.4\n",
        "sigma_w5 = 1.428\n",
        "sigma_w6 = 1.429\n",
        "\"\"\"\n",
        "sigma_b = 1.0107\n",
        "\n",
        "sigma_w1,sigma_w2,sigma_w3,sigma_w4,sigma_w5,sigma_w6 = np.linspace(1, 1.6, 6)\n",
        "\n",
        "average_layer_corrs1 = np.zeros(num_layers)\n",
        "average_layer_corrs2 = np.zeros(num_layers)\n",
        "average_layer_corrs3 = np.zeros(num_layers)\n",
        "average_layer_corrs4 = np.zeros(num_layers)\n",
        "average_layer_corrs5 = np.zeros(num_layers)\n",
        "average_layer_corrs6 = np.zeros(num_layers)\n",
        "\n",
        "for i in tqdm(range(num_samples)):\n",
        "  model1 = get_model(num_layers, sigma_w = sigma_w1, sigma_b = sigma_b,width=N)\n",
        "  model1.build((None, N))\n",
        "  model2 = get_model(num_layers, sigma_w = sigma_w2, sigma_b = sigma_b,width=N)\n",
        "  model2.build((None, N))\n",
        "  model3 = get_model(num_layers, sigma_w = sigma_w3, sigma_b = sigma_b,width=N)\n",
        "  model3.build((None, N))\n",
        "  model4 = get_model(num_layers, sigma_w = sigma_w4, sigma_b = sigma_b,width=N)\n",
        "  model4.build((None, N))\n",
        "  model5 = get_model(num_layers, sigma_w = sigma_w5, sigma_b = sigma_b,width=N)\n",
        "  model5.build((None, N))\n",
        "  model6 = get_model(num_layers, sigma_w = sigma_w6, sigma_b = sigma_b,width=N)\n",
        "  model6.build((None, N))\n",
        "  \n",
        "  inp1 = model1.input\n",
        "  out1 = [layer.output for layer in model1.layers if isinstance(layer, Dense)]\n",
        "  get_lay_outputs1 = K.function(inp1, out1)\n",
        "  pre_activation_layers11 = get_lay_outputs1(x1)\n",
        "  pre_activation_layers12 = get_lay_outputs1(x2_sim)\n",
        "  \n",
        "  for l in range(len(pre_activation_layers11)):\n",
        "    h11 = pre_activation_layers11[l][0,:]\n",
        "    h12 = pre_activation_layers12[l][0,:]\n",
        "    average_layer_corrs1[l]+= np.corrcoef(h11, h12)[0,1]\n",
        "\n",
        "  inp2 = model2.input\n",
        "  out2 = [layer.output for layer in model2.layers if isinstance(layer, Dense)]\n",
        "  get_lay_outputs2 = K.function(inp2, out2)\n",
        "  pre_activation_layers21 = get_lay_outputs2(x1)\n",
        "  pre_activation_layers22 = get_lay_outputs2(x2_sim)\n",
        "\n",
        "\n",
        "  for l in range(len(pre_activation_layers21)):\n",
        "    h21 = pre_activation_layers21[l][0,:]\n",
        "    h22 = pre_activation_layers22[l][0,:]\n",
        "    average_layer_corrs2[l]+= np.corrcoef(h21, h22)[0,1]\n",
        "\n",
        "  inp3 = model3.input\n",
        "  out3 = [layer.output for layer in model3.layers if isinstance(layer, Dense)]\n",
        "  get_lay_outputs3 = K.function(inp3, out3)\n",
        "  pre_activation_layers31 = get_lay_outputs3(x1)\n",
        "  pre_activation_layers32 = get_lay_outputs3(x2_sim)\n",
        "\n",
        "\n",
        "  for l in range(len(pre_activation_layers31)):\n",
        "    h31 = pre_activation_layers31[l][0,:]\n",
        "    h32 = pre_activation_layers32[l][0,:]\n",
        "    average_layer_corrs3[l]+= np.corrcoef(h31, h32)[0,1]\n",
        "\n",
        "  inp4 = model4.input\n",
        "  out4 = [layer.output for layer in model4.layers if isinstance(layer, Dense)]\n",
        "  get_lay_outputs4 = K.function(inp4, out4)\n",
        "  pre_activation_layers41 = get_lay_outputs4(x1)\n",
        "  pre_activation_layers42 = get_lay_outputs4(x2_sim)\n",
        "\n",
        "\n",
        "  for l in range(len(pre_activation_layers41)):\n",
        "    h41 = pre_activation_layers41[l][0,:]\n",
        "    h42 = pre_activation_layers42[l][0,:]\n",
        "    average_layer_corrs4[l]+= np.corrcoef(h41, h42)[0,1]\n",
        "\n",
        "  inp5 = model5.input\n",
        "  out5 = [layer.output for layer in model5.layers if isinstance(layer, Dense)]\n",
        "  get_lay_outputs5 = K.function(inp5, out5)\n",
        "  pre_activation_layers51 = get_lay_outputs5(x1)\n",
        "  pre_activation_layers52 = get_lay_outputs5(x2_sim)\n",
        "\n",
        "\n",
        "  for l in range(len(pre_activation_layers51)):\n",
        "    h51 = pre_activation_layers51[l][0,:]\n",
        "    h52 = pre_activation_layers52[l][0,:]\n",
        "    average_layer_corrs5[l]+= np.corrcoef(h51, h52)[0,1]\n",
        "\n",
        "  inp6 = model6.input\n",
        "  out6 = [layer.output for layer in model6.layers if isinstance(layer, Dense)]\n",
        "  get_lay_outputs6 = K.function(inp6, out6)\n",
        "  pre_activation_layers61 = get_lay_outputs6(x1)\n",
        "  pre_activation_layers62 = get_lay_outputs6(x2_sim)\n",
        "\n",
        "  for l in range(len(pre_activation_layers61)):\n",
        "    h61 = pre_activation_layers61[l][0,:]\n",
        "    h62 = pre_activation_layers62[l][0,:]\n",
        "    average_layer_corrs6[l]+= np.corrcoef(h61, h62)[0,1]\n",
        "\n",
        "\n",
        "  del model1, model2, model3, model4, model5, model6\n",
        "  tf.keras.backend.clear_session()\n",
        "\n",
        "average_layer_corrs1=np.divide(average_layer_corrs1, num_samples)\n",
        "average_layer_corrs2=np.divide(average_layer_corrs2, num_samples)\n",
        "average_layer_corrs3=np.divide(average_layer_corrs3, num_samples)\n",
        "average_layer_corrs4=np.divide(average_layer_corrs4, num_samples)\n",
        "average_layer_corrs5=np.divide(average_layer_corrs5, num_samples)\n",
        "average_layer_corrs6=np.divide(average_layer_corrs6, num_samples)"
      ],
      "execution_count": 181,
      "outputs": [
        {
          "output_type": "stream",
          "name": "stderr",
          "text": [
            "100%|██████████| 20/20 [02:07<00:00,  6.36s/it]\n"
          ]
        }
      ]
    },
    {
      "cell_type": "code",
      "metadata": {
        "colab": {
          "base_uri": "https://localhost:8080/",
          "height": 296
        },
        "id": "hIdAvQxIM2CQ",
        "outputId": "1f6921dc-4707-4e95-e160-19f4643e1e25"
      },
      "source": [
        "plt.plot(np.arange(num_layers)+1, average_layer_corrs1)\n",
        "plt.plot(np.arange(num_layers)+1, average_layer_corrs2)\n",
        "plt.plot(np.arange(num_layers)+1, average_layer_corrs3)\n",
        "plt.plot(np.arange(num_layers)+1, average_layer_corrs4)\n",
        "plt.plot(np.arange(num_layers)+1, average_layer_corrs5)\n",
        "plt.plot(np.arange(num_layers)+1, average_layer_corrs6)\n",
        "plt.xlabel('Layer')\n",
        "plt.ylabel('$c_{12}^l$')\n",
        "plt.legend((f'$\\sigma_w$={sigma_w1}', \n",
        "            f'$\\sigma_w$={sigma_w2}', \n",
        "            f'$\\sigma_w$={sigma_w3}', \n",
        "            f'$\\sigma_w$={sigma_w4}', \n",
        "            f'$\\sigma_w$={sigma_w5}', \n",
        "            f'$\\sigma_w$={sigma_w6}'))"
      ],
      "execution_count": 182,
      "outputs": [
        {
          "output_type": "execute_result",
          "data": {
            "text/plain": [
              "<matplotlib.legend.Legend at 0x7fc49e7db610>"
            ]
          },
          "metadata": {},
          "execution_count": 182
        },
        {
          "output_type": "display_data",
          "data": {
            "text/plain": [
              "<Figure size 432x288 with 1 Axes>"
            ],
            "image/png": "[encoded data removed]"
          },
          "metadata": {
            "needs_background": "light"
          }
        }
      ]
    },
    {
      "cell_type": "markdown",
      "metadata": {
        "id": "YLthgeXSboGE"
      },
      "source": [
        "##5) Gradient magnitude through depth"
      ]
    },
    {
      "cell_type": "code",
      "metadata": {
        "id": "fBcubYxpbimP",
        "colab": {
          "base_uri": "https://localhost:8080/",
          "height": 265
        },
        "outputId": "d17dc7c0-99cd-475d-b017-f8ff68863008"
      },
      "source": [
        "# For this question we will need a loss function, and so we will need data with labels. We may as well use MNIST - though synthetic data would do just fine.\n",
        "\n",
        " # Sample batch of MNIST data\n",
        "(x_train, y_train), (x_test, y_test)= mnist.load_data()\n",
        "batch_size = 128\n",
        "x_batch = x_train[:batch_size, :, :]\n",
        "y_batch = y_train[:batch_size]\n",
        "\n",
        "loss_object = tf.keras.losses.SparseCategoricalCrossentropy(from_logits=True)\n",
        "\n",
        "# functions to compute loss and gradients\n",
        "\n",
        "def loss(model, x, y, training):\n",
        "  y_hat = model(x)\n",
        "  return loss_object(y_true=y, y_pred=y_hat)\n",
        "\n",
        "def grad(model, inputs, targets):\n",
        "  with tf.GradientTape() as tape:\n",
        "    loss_value = loss(model, inputs, targets, training=True)\n",
        "  return loss_value, tape.gradient(loss_value, model.trainable_variables)\n",
        "\n",
        "\n",
        "# Function to build model\n",
        "\n",
        "def get_model(num_layers, width = N, sigma_w = 2.5, sigma_b = 0.3):  \n",
        "  model = Sequential()\n",
        "  model.add(Flatten())\n",
        "  kernel_initialiser = tf.random_normal_initializer(mean=0.0, stddev=sigma_w/np.sqrt(N))\n",
        "  bias_initialiser = tf.random_normal_initializer(mean=0.0, stddev=sigma_b)\n",
        "  for i in range(num_layers):\n",
        "    model.add(Dense(width, kernel_initializer=kernel_initialiser, use_bias=True, bias_initializer=bias_initialiser))\n",
        "    model.add(Activation('tanh'))\n",
        "  model.add(Dense(10, kernel_initializer=kernel_initialiser, use_bias=True, bias_initializer=bias_initialiser))\n",
        "  return model\n",
        "\n",
        "# Now we build a deep net, and vary 𝜎𝑤 and 𝜎𝑏 and examine the impact on the gradients\n",
        "\n",
        "num_layers = 30\n",
        "#vary these\n",
        "sigma_w = 1.3\n",
        "sigma_b = 0.3\n",
        "N = 28*28\n",
        "\n",
        "model = get_model(num_layers, sigma_w = sigma_w, sigma_b = sigma_b,width=N)\n",
        "loss_value,  grads = grad(model, x_batch, y_batch)\n",
        "\n",
        "# plt.plot(np.concatenate([tf.reshape(g, -1) for g in grads]))\n",
        "\n",
        "plt.hist(np.concatenate([tf.reshape(g, -1) for g in grads]), bins = 100, log=True);\n",
        " "
      ],
      "execution_count": null,
      "outputs": [
        {
          "output_type": "display_data",
          "data": {
            "image/png": "[encoded data removed]",
            "text/plain": [
              "<Figure size 432x288 with 1 Axes>"
            ]
          },
          "metadata": {
            "needs_background": "light"
          }
        }
      ]
    },
    {
      "cell_type": "code",
      "metadata": {
        "colab": {
          "base_uri": "https://localhost:8080/",
          "height": 265
        },
        "id": "DR8_MvX9Lyvw",
        "outputId": "1ea73d4f-2af3-432e-8a93-fa1a3ebee681"
      },
      "source": [
        "num_layers = 30\n",
        "#vary these\n",
        "sigma_w = 4\n",
        "sigma_b = 0.3\n",
        "N = 28*28\n",
        "\n",
        "model = get_model(num_layers, sigma_w = sigma_w, sigma_b = sigma_b,width=N)\n",
        "loss_value,  grads = grad(model, x_batch, y_batch)\n",
        "\n",
        "\n",
        "plt.hist(np.concatenate([tf.reshape(g, -1) for g in grads]), bins = 100, log=True);\n",
        " "
      ],
      "execution_count": null,
      "outputs": [
        {
          "output_type": "display_data",
          "data": {
            "image/png": "[encoded data removed]",
            "text/plain": [
              "<Figure size 432x288 with 1 Axes>"
            ]
          },
          "metadata": {
            "needs_background": "light"
          }
        }
      ]
    },
    {
      "cell_type": "code",
      "metadata": {
        "id": "BMaOgbtsLFk0"
      },
      "source": [],
      "execution_count": null,
      "outputs": []
    }
  ]
}