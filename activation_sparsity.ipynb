{
 "cells": [
  {
   "cell_type": "code",
   "execution_count": 1,
   "metadata": {},
   "outputs": [],
   "source": [
    "import torch\n",
    "import torch.nn as nn\n",
    "import torch.nn.functional as F\n",
    "import torch.optim as optim\n",
    "from torchvision import datasets, transforms\n",
    "import numpy as np\n",
    "import matplotlib.pyplot as plt\n",
    "from train import soft_net, relu_net"
   ]
  },
  {
   "cell_type": "code",
   "execution_count": 2,
   "metadata": {},
   "outputs": [],
   "source": [
    "test_loader = torch.utils.data.DataLoader(\n",
    "    datasets.MNIST('../data', train=False, download=True, transform=transforms.Compose([\n",
    "            transforms.ToTensor(),\n",
    "            transforms.Normalize((0.1307,), (0.3081,)),\n",
    "            ])),\n",
    "        batch_size=1, shuffle=True)"
   ]
  },
  {
   "cell_type": "code",
   "execution_count": 3,
   "metadata": {},
   "outputs": [],
   "source": [
    "device = \"cpu\""
   ]
  },
  {
   "cell_type": "code",
   "execution_count": 81,
   "metadata": {},
   "outputs": [
    {
     "data": {
      "text/plain": [
       "soft_net(\n",
       "  (conv1): Conv2d(1, 32, kernel_size=(3, 3), stride=(1, 1))\n",
       "  (conv2): Conv2d(32, 64, kernel_size=(3, 3), stride=(1, 1))\n",
       "  (dropout1): Dropout(p=0.25, inplace=False)\n",
       "  (dropout2): Dropout(p=0.5, inplace=False)\n",
       "  (fc1): Linear(in_features=9216, out_features=128, bias=True)\n",
       "  (fc2): Linear(in_features=128, out_features=10, bias=True)\n",
       ")"
      ]
     },
     "execution_count": 81,
     "metadata": {},
     "output_type": "execute_result"
    }
   ],
   "source": [
    "pretrained_relu = \"mnist_cnn_relu.pt\"\n",
    "relu_model = relu_net().to(device)\n",
    "relu_model.load_state_dict(torch.load(pretrained_relu, map_location='cpu'))\n",
    "relu_model.eval()\n",
    "pretrained_soft = \"mnist_cnn_soft_tau=1.pt\"\n",
    "soft_model = soft_net(1).to(device)\n",
    "soft_model.load_state_dict(torch.load(pretrained_soft, map_location='cpu'))\n",
    "soft_model.eval()"
   ]
  },
  {
   "cell_type": "code",
   "execution_count": 82,
   "metadata": {},
   "outputs": [],
   "source": [
    "# Define forward hook for activation sparsity\n",
    "sparsities = {\"relu\": {},\n",
    "              \"soft\": {}\n",
    "              }\n",
    "\n",
    "def get_hook( model_name, layer_name ):\n",
    "    def sparsity( model, input, output ):\n",
    "        non_zero = torch.count_nonzero( input[0] ) / torch.numel( input[ 0 ])\n",
    "        if sparsities.get(model_name).get( layer_name, None ) is not None: \n",
    "            sparsities[model_name][ layer_name ] += non_zero\n",
    "        else: \n",
    "            sparsities[model_name][ layer_name ] = non_zero \n",
    "    \n",
    "    return( sparsity )\n"
   ]
  },
  {
   "cell_type": "code",
   "execution_count": 83,
   "metadata": {},
   "outputs": [
    {
     "data": {
      "text/plain": [
       "<torch.utils.hooks.RemovableHandle at 0x7f68d2f714e0>"
      ]
     },
     "execution_count": 83,
     "metadata": {},
     "output_type": "execute_result"
    }
   ],
   "source": [
    "soft_model.conv1.register_forward_hook( get_hook( \"soft\", \"inputs\") )\n",
    "soft_model.conv2.register_forward_hook( get_hook( \"soft\", \"conv1\") )\n",
    "soft_model.fc1.register_forward_hook( get_hook( \"soft\",\"conv2\") )\n",
    "soft_model.fc2.register_forward_hook( get_hook( \"soft\", \"fc1\") )"
   ]
  },
  {
   "cell_type": "code",
   "execution_count": 84,
   "metadata": {},
   "outputs": [
    {
     "data": {
      "text/plain": [
       "<torch.utils.hooks.RemovableHandle at 0x7f68d28c9ea0>"
      ]
     },
     "execution_count": 84,
     "metadata": {},
     "output_type": "execute_result"
    }
   ],
   "source": [
    "relu_model.conv1.register_forward_hook( get_hook( \"relu\", \"inputs\") )\n",
    "relu_model.conv2.register_forward_hook( get_hook( \"relu\", \"conv1\") )\n",
    "relu_model.fc1.register_forward_hook( get_hook( \"relu\",\"conv2\") )\n",
    "relu_model.fc2.register_forward_hook( get_hook( \"relu\", \"fc1\") )"
   ]
  },
  {
   "cell_type": "code",
   "execution_count": 85,
   "metadata": {},
   "outputs": [],
   "source": [
    "for data, target in test_loader:\n",
    "    data, target = data.to(device), target.to(device)\n",
    "    soft_model( data )\n",
    "    relu_model( data )"
   ]
  },
  {
   "cell_type": "code",
   "execution_count": 86,
   "metadata": {},
   "outputs": [
    {
     "data": {
      "text/plain": [
       "{'relu': {'inputs': tensor(10000.),\n",
       "  'conv1': tensor(5035.4761),\n",
       "  'conv2': tensor(529.0568),\n",
       "  'fc1': tensor(2238.3359)},\n",
       " 'soft': {'inputs': tensor(10000.),\n",
       "  'conv1': tensor(5734.6157),\n",
       "  'conv2': tensor(3977.8779),\n",
       "  'fc1': tensor(9322.0625)}}"
      ]
     },
     "execution_count": 86,
     "metadata": {},
     "output_type": "execute_result"
    }
   ],
   "source": [
    "sparsities"
   ]
  },
  {
   "cell_type": "code",
   "execution_count": 87,
   "metadata": {},
   "outputs": [],
   "source": [
    "average_soft = [ value / len( test_loader ) for value in sparsities[ \"soft\"].values() ] \n",
    "average_relu = [ value / len( test_loader ) for value in sparsities[ \"relu\"].values() ] "
   ]
  },
  {
   "cell_type": "code",
   "execution_count": 88,
   "metadata": {},
   "outputs": [
    {
     "data": {
      "text/plain": [
       "Text(0.5, 1.0, 'Activation sparsities in the hidden layers')"
      ]
     },
     "execution_count": 88,
     "metadata": {},
     "output_type": "execute_result"
    },
    {
     "data": {
      "image/png": "[encoded data removed]",
      "text/plain": [
       "<Figure size 640x480 with 1 Axes>"
      ]
     },
     "metadata": {},
     "output_type": "display_data"
    }
   ],
   "source": [
    "width = 0.25\n",
    "labels = [ \"inputs\", \"conv1\", \"conv2\", \"fc1\" ]\n",
    "x = np.arange( len(sparsities[ \"soft\"].values() ))\n",
    "fig, ax = plt.subplots(1)\n",
    "ax.bar( labels, average_soft , width=width, label = \"soft\")\n",
    "ax.bar( x+width, average_relu, width=width, label = \"relu\")\n",
    "ax.legend()\n",
    "plt.title( \"Activation sparsities in the hidden layers\")"
   ]
  }
 ],
 "metadata": {
  "kernelspec": {
   "display_name": "Python 3.10.6 ('icml')",
   "language": "python",
   "name": "python3"
  },
  "language_info": {
   "codemirror_mode": {
    "name": "ipython",
    "version": 3
   },
   "file_extension": ".py",
   "mimetype": "text/x-python",
   "name": "python",
   "nbconvert_exporter": "python",
   "pygments_lexer": "ipython3",
   "version": "3.10.6"
  },
  "orig_nbformat": 4,
  "vscode": {
   "interpreter": {
    "hash": "493a5167d889db41b00f6ce2e749814bf2d837e049a65c117ea832ee80784b46"
   }
  }
 },
 "nbformat": 4,
 "nbformat_minor": 2
}
